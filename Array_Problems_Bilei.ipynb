{
  "nbformat": 4,
  "nbformat_minor": 0,
  "metadata": {
    "colab": {
      "name": "Array_Problems_Bilei.ipynb",
      "provenance": [],
      "authorship_tag": "ABX9TyMmXx6u3WTfqF11uRoqWw++",
      "include_colab_link": true
    },
    "kernelspec": {
      "name": "python3",
      "display_name": "Python 3"
    }
  },
  "cells": [
    {
      "cell_type": "markdown",
      "metadata": {
        "id": "view-in-github",
        "colab_type": "text"
      },
      "source": [
        "<a href=\"https://colab.research.google.com/github/sagyant/sample_codes/blob/main/Array_Problems_Bilei.ipynb\" target=\"_parent\"><img src=\"https://colab.research.google.com/assets/colab-badge.svg\" alt=\"Open In Colab\"/></a>"
      ]
    },
    {
      "cell_type": "code",
      "metadata": {
        "id": "_hWczzdxcbCH"
      },
      "source": [
        "# importing necessary libraries\n",
        "\n",
        "import numpy as np\n",
        "from random import randint, choice\n",
        "from itertools import combinations, combinations_with_replacement"
      ],
      "execution_count": 2,
      "outputs": []
    },
    {
      "cell_type": "code",
      "metadata": {
        "id": "1fWJS9Mj_51S"
      },
      "source": [
        "# creating the necessary random 1-D arrays with 10 elements to be tested\n",
        "test_array = np.random.choice(range(1,100), size=10, replace=False) "
      ],
      "execution_count": null,
      "outputs": []
    },
    {
      "cell_type": "code",
      "metadata": {
        "id": "9-HgpkXnAnla"
      },
      "source": [
        "# Function to return tru or false based on the existence of a increasing triplet \n",
        "# but I am SURE it is not working the way i expected. Does not look efficient.\n",
        "def increasing_triplet_sequence(arr):\n",
        "\n",
        "  res = False\n",
        "  a, b = arr[0], arr[1]\n",
        "  for i in range(len(arr)-2):\n",
        "    if a > b:\n",
        "      a = arr[i+1]\n",
        "      b = arr[i+2]\n",
        "    elif arr[i+1] < arr[i+2]:\n",
        "      res = True\n",
        "      break\n",
        "    else:\n",
        "      a = b\n",
        "      try:\n",
        "       b = arr[i+3]\n",
        "      except:\n",
        "        res = False\n",
        "  return(res, a, b, arr[i+2])"
      ],
      "execution_count": null,
      "outputs": []
    },
    {
      "cell_type": "code",
      "metadata": {
        "id": "n1P_qbZfD4XL"
      },
      "source": [
        "# for i in range(10):\n",
        "#   test_array = np.random.choice(range(1,100), size=10, replace=False)\n",
        "#   print('array used as input :', test_array)\n",
        "#   print(increasing_triplet_sequence(test_array))"
      ],
      "execution_count": null,
      "outputs": []
    },
    {
      "cell_type": "code",
      "metadata": {
        "id": "QrDDwHcIKLWS"
      },
      "source": [
        "# Lets try some different approach, Lets start small\n",
        "test_array = np.random.choice(range(1,20), size=8, replace=False)\n",
        "# for i, num in enumerate(test_array.sort()):\n",
        "#   print(i, num)"
      ],
      "execution_count": null,
      "outputs": []
    },
    {
      "cell_type": "code",
      "metadata": {
        "id": "eM0kMIEONF8V",
        "outputId": "41b22db1-3c34-4672-9802-d360d66ae305",
        "colab": {
          "base_uri": "https://localhost:8080/",
          "height": 51
        }
      },
      "source": [
        "print(test_array)\n",
        "test1 = np.sort(test_array)\n",
        "print(test1)\n",
        "# [14 18  6  4 15  5  8  3]"
      ],
      "execution_count": null,
      "outputs": [
        {
          "output_type": "stream",
          "text": [
            "[14 18  6  4 15  5  8  3]\n",
            "[ 3  4  5  6  8 14 15 18]\n"
          ],
          "name": "stdout"
        }
      ]
    },
    {
      "cell_type": "code",
      "metadata": {
        "id": "Mw7s9FN3Q8CH"
      },
      "source": [
        "test = [14, 18,  6,  4, 15,  5,  8,  3]"
      ],
      "execution_count": null,
      "outputs": []
    },
    {
      "cell_type": "code",
      "metadata": {
        "id": "DO1nJLY-dW87"
      },
      "source": [
        "# Function for finding the eligible sequences.\n",
        "\n",
        "def find_seq(arr):\n",
        "  sequence_found = []\n",
        "  for sequence in combinations(arr,3):\n",
        "    # Use any of the ways to check if the list is sorted:\n",
        "    # if sequence[0] < sequence[1] and sequence[1] < sets[2]:  #1\n",
        "    if list(sorted(sequence)) == list(sequence):  #2\n",
        "      sequence_found.append(sequence)\n",
        "    else:\n",
        "      continue\n",
        "  return sequence_found\n",
        "\n",
        "# This solution is working fine. Let's try one more approach\n",
        "for i in range(20):\n",
        "  random_array = np.random.choice(range(1,20), size=8, replace=False)\n",
        "  print(random_array, '\\n', find_seq(random_array))"
      ],
      "execution_count": null,
      "outputs": []
    },
    {
      "cell_type": "code",
      "metadata": {
        "id": "5t7RC_htiqjA"
      },
      "source": [
        "# trying Sweta's Approach. This is also working fine.\n",
        "\n",
        "def check_lesser_bigger(arr):\n",
        "  out_list = []\n",
        "  for i in range(1, len(arr)-1):\n",
        "    for j in range(i):\n",
        "      if arr[j] < arr[i]:\n",
        "        for k in range(i+1,len(arr)):\n",
        "          if arr[k] > arr[i]:\n",
        "            out_list.append([arr[j], arr[i], arr[k]])\n",
        "  return out_list\n",
        "\n",
        "\n",
        "# This solution is also implemented fine. \n",
        "\n",
        "for i in range(20):\n",
        "  random_array = np.random.choice(range(1,20), size=8, replace=False)\n",
        "  print(random_array, '\\n', check_lesser_bigger(random_array))"
      ],
      "execution_count": 4,
      "outputs": []
    },
    {
      "cell_type": "code",
      "metadata": {
        "id": "ZnUqnbGImPfm"
      },
      "source": [
        "test = np.array([12, 11, 10,5,6, 2, 30])"
      ],
      "execution_count": 5,
      "outputs": []
    },
    {
      "cell_type": "code",
      "metadata": {
        "id": "SLlrUBZXhvHu",
        "outputId": "75f4a870-58a3-4f1f-ed35-1f409028946a",
        "colab": {
          "base_uri": "https://localhost:8080/",
          "height": 34
        }
      },
      "source": [
        "check_lesser_bigger(test)"
      ],
      "execution_count": 6,
      "outputs": [
        {
          "output_type": "execute_result",
          "data": {
            "text/plain": [
              "[[5, 6, 30]]"
            ]
          },
          "metadata": {
            "tags": []
          },
          "execution_count": 6
        }
      ]
    }
  ]
}